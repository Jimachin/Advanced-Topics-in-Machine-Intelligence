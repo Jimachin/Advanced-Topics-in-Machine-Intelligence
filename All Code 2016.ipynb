{
 "cells": [
  {
   "cell_type": "markdown",
   "metadata": {},
   "source": [
    "# Clase 3"
   ]
  },
  {
   "cell_type": "code",
   "execution_count": 9,
   "metadata": {
    "collapsed": true
   },
   "outputs": [],
   "source": [
    "author__ = 'Havy'\n",
    "\n",
    "import numpy as np\n",
    "import matplotlib.pyplot as plt\n",
    "%matplotlib inline"
   ]
  },
  {
   "cell_type": "markdown",
   "metadata": {},
   "source": [
    "## Maximun a Posteriori"
   ]
  },
  {
   "cell_type": "code",
   "execution_count": 20,
   "metadata": {
    "collapsed": false
   },
   "outputs": [
    {
     "data": {
      "image/png": "[encoded data removed]",
      "text/plain": [
       "<matplotlib.figure.Figure at 0x863a6d8>"
      ]
     },
     "metadata": {},
     "output_type": "display_data"
    }
   ],
   "source": [
    "Sources = 5\n",
    "Sigma = 0.1\n",
    "Labnda = 0.6\n",
    "P = 100\n",
    "num = 5\n",
    "\n",
    "X = np.random.rand(Sources)\n",
    "Y = np.random.rand(Sources)\n",
    "Y = (Y - np.mean(Y))/ np.std(Y)\n",
    "\n",
    "Phi = np.column_stack([X**i for i in range(P)])\n",
    "Mu = np.dot(np.linalg.inv((Sigma**2 / Labnda**2) * np.identity(P) + np.dot(Phi.T, Phi)), np.dot(Phi.T, Y))\n",
    "\n",
    "Xstar = np.linspace(np.min(Phi),np.max(Phi),P)\n",
    "Phistar = np.column_stack([Xstar**i for i in range(P)])\n",
    "\n",
    "plt.plot(X,Y,'+b')\n",
    "plt.plot(Xstar, np.dot(Phistar, Mu),'--r')\n",
    "plt.show()"
   ]
  },
  {
   "cell_type": "markdown",
   "metadata": {},
   "source": [
    "## Regresion Bayesiana"
   ]
  },
  {
   "cell_type": "code",
   "execution_count": 21,
   "metadata": {
    "collapsed": false
   },
   "outputs": [],
   "source": [
    "Sigma = 0.3\n",
    "Labnda = 0.4\n",
    "\n",
    "I = np.identity(P)\n",
    "Vn = np.linalg.inv(((1/Sigma**2) * I) + ((1/Labnda**2) * np.dot(Phi.T, Phi)))\n",
    "m = (1 /Sigma**2 ) * np.dot(Vn , np.dot(Phi.T, Y))\n",
    "M = np.dot(Phistar, m)\n",
    "Sigma2 = (Sigma**2 * I) + np.dot(Phistar, np.dot(Vn, Phistar.T))"
   ]
  },
  {
   "cell_type": "code",
   "execution_count": 22,
   "metadata": {
    "collapsed": false
   },
   "outputs": [
    {
     "data": {
      "image/png": "[encoded data removed]",
      "text/plain": [
       "<matplotlib.figure.Figure at 0x84ade10>"
      ]
     },
     "metadata": {},
     "output_type": "display_data"
    }
   ],
   "source": [
    "plt.plot(X,Y,'+b')\n",
    "plt.plot(Xstar, M,'--r')\n",
    "plt.fill_between(Xstar, M-np.sqrt(np.diag(Sigma2))*1.96, M+np.sqrt(np.diag(Sigma2))*1.96, color='g',alpha=0.35)\n",
    "plt.grid(True)\n",
    "plt.show()"
   ]
  }
 ],
 "metadata": {
  "kernelspec": {
   "display_name": "Python 2",
   "language": "python",
   "name": "python2"
  },
  "language_info": {
   "codemirror_mode": {
    "name": "ipython",
    "version": 2
   },
   "file_extension": ".py",
   "mimetype": "text/x-python",
   "name": "python",
   "nbconvert_exporter": "python",
   "pygments_lexer": "ipython2",
   "version": "2.7.11"
  }
 },
 "nbformat": 4,
 "nbformat_minor": 0
}
